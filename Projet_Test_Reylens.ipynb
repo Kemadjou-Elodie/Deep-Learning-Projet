{
  "nbformat": 4,
  "nbformat_minor": 0,
  "metadata": {
    "colab": {
      "name": "Projet_Test_Reylens.ipynb",
      "provenance": [],
      "authorship_tag": "ABX9TyM3fAVpn7u9cxAmllWLx1lN",
      "include_colab_link": true
    },
    "kernelspec": {
      "name": "python3",
      "display_name": "Python 3"
    }
  },
  "cells": [
    {
      "cell_type": "markdown",
      "metadata": {
        "id": "view-in-github",
        "colab_type": "text"
      },
      "source": [
        "<a href=\"https://colab.research.google.com/github/Kemadjou-Elodie/Deep-Learning-Projet/blob/master/Projet_Test_Reylens.ipynb\" target=\"_parent\"><img src=\"https://colab.research.google.com/assets/colab-badge.svg\" alt=\"Open In Colab\"/></a>"
      ]
    },
    {
      "cell_type": "markdown",
      "metadata": {
        "id": "QjrGtrgWtNT7"
      },
      "source": [
        "## **Multi-class Text Categorization - Groupe Relyens - DATA SCIENTIST POSITION**\r\n",
        "\r\n",
        "**Objective**. In this technical test you you are asked to solve a multi-class classification problem on\r\n",
        "textual data using machine learning, commonly known as text categorization. The technical\r\n",
        "test is composed of two parts, model experimentation and deployment. More details will be explained\r\n",
        "in the corresponding sections."
      ]
    },
    {
      "cell_type": "markdown",
      "metadata": {
        "id": "0UrtVM_7tkSM"
      },
      "source": [
        "***Introduction*** : \r\n",
        "Text feature extraction and pre-processing for classification algorithms are very significant. In this section, we start to talk about text cleaning since most of documents contain a lot of noise. In this part, we discuss two primary methods of text feature extractions- word embedding and weighted word."
      ]
    },
    {
      "cell_type": "markdown",
      "metadata": {
        "id": "izz0jC3PuqUw"
      },
      "source": [
        "***1. Load Data set*** :  \r\n",
        "\r\n",
        "The dataset comprises around 18000 documents posts on 20 topics split in two subsets : one for training and another for testing.\r\n",
        "The dataset is available on this link : [https://drive.google.com/file/d/\r\n",
        "1ywHLd78-Ms5SmyEuHGmJDDGHSGsvvcD2/view?usp=sharing](https://)"
      ]
    },
    {
      "cell_type": "code",
      "metadata": {
        "colab": {
          "base_uri": "https://localhost:8080/"
        },
        "id": "VZmp-EiM-2k9",
        "outputId": "5f650166-51f0-490f-dc24-3606db38bf6d"
      },
      "source": [
        "! pip  install  googledrivedownloader"
      ],
      "execution_count": 1,
      "outputs": [
        {
          "output_type": "stream",
          "text": [
            "Requirement already satisfied: googledrivedownloader in /usr/local/lib/python3.6/dist-packages (0.4)\n"
          ],
          "name": "stdout"
        }
      ]
    },
    {
      "cell_type": "code",
      "metadata": {
        "colab": {
          "base_uri": "https://localhost:8080/"
        },
        "id": "erCn4yCb-8Xh",
        "outputId": "70868684-32c5-4451-e32c-07e8fcb903df"
      },
      "source": [
        "import os\r\n",
        "import nltk\r\n",
        "import random\r\n",
        "import numpy as np\r\n",
        "import pandas as pd\r\n",
        "\r\n",
        "from spacy.tokenizer import Tokenizer\r\n",
        "from sklearn.svm import LinearSVC\r\n",
        "from sklearn.pipeline import Pipeline\r\n",
        "from sklearn import metrics\r\n",
        "from sklearn.datasets import load_files\r\n",
        "from sklearn.feature_extraction.text import CountVectorizer\r\n",
        "from sklearn.feature_extraction.text import TfidfTransformer\r\n",
        "from google_drive_downloader import GoogleDriveDownloader  as gdd\r\n",
        "gdd.download_file_from_google_drive(file_id ='1ywHLd78-Ms5SmyEuHGmJDDGHSGsvvcD2', dest_path ='./dataset.zip', unzip=True)"
      ],
      "execution_count": 2,
      "outputs": [
        {
          "output_type": "stream",
          "text": [
            "Downloading 1ywHLd78-Ms5SmyEuHGmJDDGHSGsvvcD2 into ./dataset.zip... Done.\n",
            "Unzipping...Done.\n"
          ],
          "name": "stdout"
        }
      ]
    },
    {
      "cell_type": "code",
      "metadata": {
        "id": "EsUpv1tB_91W"
      },
      "source": [
        "data_dir_test = '/content/test'\r\n",
        "data_dir_train = '/content/train'\r\n",
        "df_test = load_files(data_dir_test, encoding = \"utf-8\", decode_error = \"replace\")\r\n",
        "df_train = load_files(data_dir_train, encoding = \"utf-8\", decode_error = \"replace\")"
      ],
      "execution_count": 3,
      "outputs": []
    },
    {
      "cell_type": "code",
      "metadata": {
        "colab": {
          "base_uri": "https://localhost:8080/"
        },
        "id": "pzYREmmYIa14",
        "outputId": "c75af0d5-7fa8-4cd1-d77a-a1147ec74c06"
      },
      "source": [
        "len(df_test.target)"
      ],
      "execution_count": 4,
      "outputs": [
        {
          "output_type": "execute_result",
          "data": {
            "text/plain": [
              "7532"
            ]
          },
          "metadata": {
            "tags": []
          },
          "execution_count": 4
        }
      ]
    },
    {
      "cell_type": "code",
      "metadata": {
        "colab": {
          "base_uri": "https://localhost:8080/"
        },
        "id": "ptfwux0qIkL7",
        "outputId": "e4ebe03d-3ef2-4f9d-add9-f845665689cb"
      },
      "source": [
        "len(df_train.target)"
      ],
      "execution_count": 5,
      "outputs": [
        {
          "output_type": "execute_result",
          "data": {
            "text/plain": [
              "11314"
            ]
          },
          "metadata": {
            "tags": []
          },
          "execution_count": 5
        }
      ]
    },
    {
      "cell_type": "code",
      "metadata": {
        "colab": {
          "base_uri": "https://localhost:8080/"
        },
        "id": "lejFdxr-Izd_",
        "outputId": "a82dc738-231e-4b3f-9d04-a535a4e0723e"
      },
      "source": [
        "## numbers of target\r\n",
        "df_train.target_names"
      ],
      "execution_count": 6,
      "outputs": [
        {
          "output_type": "execute_result",
          "data": {
            "text/plain": [
              "['alt.atheism',\n",
              " 'comp.graphics',\n",
              " 'comp.os.ms-windows.misc',\n",
              " 'comp.sys.ibm.pc.hardware',\n",
              " 'comp.sys.mac.hardware',\n",
              " 'comp.windows.x',\n",
              " 'misc.forsale',\n",
              " 'rec.autos',\n",
              " 'rec.motorcycles',\n",
              " 'rec.sport.baseball',\n",
              " 'rec.sport.hockey',\n",
              " 'sci.crypt',\n",
              " 'sci.electronics',\n",
              " 'sci.med',\n",
              " 'sci.space',\n",
              " 'soc.religion.christian',\n",
              " 'talk.politics.guns',\n",
              " 'talk.politics.mideast',\n",
              " 'talk.politics.misc',\n",
              " 'talk.religion.misc']"
            ]
          },
          "metadata": {
            "tags": []
          },
          "execution_count": 6
        }
      ]
    },
    {
      "cell_type": "code",
      "metadata": {
        "colab": {
          "base_uri": "https://localhost:8080/"
        },
        "id": "9rEE2ybCI_uH",
        "outputId": "e452d599-3657-4bb7-8d27-ec30dbfdf221"
      },
      "source": [
        "df_train.data[0:5]"
      ],
      "execution_count": 7,
      "outputs": [
        {
          "output_type": "execute_result",
          "data": {
            "text/plain": [
              "[\"From: cubbie@garnet.berkeley.edu (                               )\\nSubject: Re: Cubs behind Marlins? How?\\nArticle-I.D.: agate.1pt592$f9a\\nOrganization: University of California, Berkeley\\nLines: 12\\nNNTP-Posting-Host: garnet.berkeley.edu\\n\\n\\ngajarsky@pilot.njin.net writes:\\n\\nmorgan and guzman will have era's 1 run higher than last year, and\\n the cubs will be idiots and not pitch harkey as much as hibbard.\\n castillo won't be good (i think he's a stud pitcher)\\n\\n       This season so far, Morgan and Guzman helped to lead the Cubs\\n       at top in ERA, even better than THE rotation at Atlanta.\\n       Cubs ERA at 0.056 while Braves at 0.059. We know it is early\\n       in the season, we Cubs fans have learned how to enjoy the\\n       short triumph while it is still there.\\n\",\n",
              " 'From: gnelson@pion.rutgers.edu (Gregory Nelson)\\nSubject: Thanks Apple: Free Ethernet on my C610!\\nArticle-I.D.: pion.Apr.6.12.05.34.1993.11732\\nOrganization: Rutgers Univ., New Brunswick, N.J.\\nLines: 26\\n\\n\\n\\tWell, I just got my Centris 610 yesterday.  It took just over two \\nweeks from placing the order.  The dealer (Rutgers computer store) \\nappologized because Apple made a substitution on my order.  I ordered\\nthe one without ethernet, but they substituted one _with_ ethernet.\\nHe wanted to know if that would be \"alright with me\"!!!  They must\\nbe backlogged on Centri w/out ethernet so they\\'re just shipping them\\nwith!  \\n\\n\\tAnyway, I\\'m very happy with the 610 with a few exceptions.  \\nBeing nosy, I decided to open it up _before_ powering it on for the first\\ntime.  The SCSI cable to the hard drive was only partially connected\\n(must have come loose in shipping).  No big deal, but I would have been\\npissed if I tried to boot it and it wouldn\\'t come up!\\n\\tThe hard drive also has an annoying high pitched whine.  I\\'ve\\nheard apple will exchange it if you complain, so I might try to get\\nit swapped.\\n\\tI am also dissappionted by the lack of soft power-on/off.  This\\nwasn\\'t mentioned in any of the literature I saw.  Also, the location\\nof the reset/interupt buttons is awful.  Having keyboard control for\\nthese functions was much more convenient.\\n\\tOh, and the screen seems tojump in a wierd way on power-up.\\nI\\'ve seen this mentioned by others, so it must be a...feature...\\n\\tAnyway, above all, it\\'s fast.  A great machine at a great price!\\n\\ngnelson@physics.rutgers.edu\\n',\n",
              " 'From: crypt-comments@math.ncsu.edu\\nSubject: Cryptography FAQ 10/10 - References\\nOrganization: The Crypt Cabal\\nLines: 333\\nExpires: 22 May 1993 04:00:07 GMT\\nReply-To: crypt-comments@math.ncsu.edu\\nNNTP-Posting-Host: pad-thai.aktis.com\\nSummary: Part 10 of 10 of the sci.crypt FAQ, References.\\n History and classical methods. Modern methods. Survey and reference\\n articles. Journals and conference proceedings. Electronic sources\\n (FTP sites).  Related newsgroups.\\nX-Last-Updated: 1993/04/16\\n\\nArchive-name: cryptography-faq/part10\\nLast-modified: 1993/4/15\\n\\n\\nFAQ for sci.crypt, part 10: References\\n\\nThis is the tenth of ten parts of the sci.crypt FAQ. The parts are\\nmostly independent, but you should read the first part before the rest.\\nWe don\\'t have the time to send out missing parts by mail, so don\\'t ask.\\nNotes such as ``[KAH67]\\'\\' refer to the reference list in this part.\\n\\nThe sections of this FAQ are available via anonymous FTP to rtfm.mit.edu \\nas /pub/usenet/news.answers/cryptography-faq/part[xx].  The Cryptography \\nFAQ is posted to the newsgroups sci.crypt, sci.answers, and news.answers \\nevery 21 days.\\n\\n\\nContents\\n\\n* Books on history and classical methods\\n* Books on modern methods\\n* Survey articles\\n* Reference articles\\n* Journals, conference proceedings\\n* Other\\n* Electronic sources\\n* RFCs (available from [FTPRF])\\n* Related newsgroups\\n\\n\\n* Books on history and classical methods\\n\\n  [CF]    Lambros D. Callimahos, William F. Friedman, Military Cryptanalytics.\\n\\t  Aegean Park Press, ?.\\n  [DEA85] Cipher A. Deavours & Louis Kruh, Machine Cryptography and\\n          Modern Cryptanalysis. Artech House, 610 Washington St.,\\n          Dedham, MA 02026, 1985.\\n  [FRIE2] William F. Friedman, Solving German Codes in World War I.\\n          Aegean Park Press, ?.\\n  [GAI44] H. Gaines, Cryptanalysis, a study of ciphers and their\\n          solution. Dover Publications, 1944.\\n  [HIN00] F.H.Hinsley, et al., British Intelligence in the Second\\n          World War. Cambridge University Press. (vol\\'s 1, 2, 3a, 3b\\n          & 4, so far).  XXX Years and authors, fix XXX\\n  [HOD83] Andrew Hodges, Alan Turing: The Enigma. Burnett Books\\n          Ltd., 1983\\n  [KAH91] David Kahn, Seizing the Enigma. Houghton Mifflin, 1991.\\n  [KAH67] D. Kahn, The Codebreakers. Macmillan Publishing, 1967.\\n          [history] [The abridged paperback edition left out most\\n          technical details; the original hardcover edition is\\n          recommended.]\\n  [KOZ84] W. Kozaczuk, Enigma. University Publications of America, 1984\\n  [KUL76] S. Kullback, Statistical Methods in Cryptanalysis. Aegean\\n          Park Press, 1976.\\n  [SIN66] A. Sinkov, Elementary Cryptanalysis. Math. Assoc. Am. 1966.\\n  [WEL82] Gordon Welchman, The Hut Six Story. McGraw-Hill, 1982.\\n  [YARDL] Herbert O. Yardley, The American Black Chamber. Aegean Park\\n          Press, ?.\\n\\n* Books on modern methods\\n\\n  [BEK82] H. Beker, F. Piper, Cipher Systems. Wiley, 1982.\\n  [BRA88] G. Brassard, Modern Cryptology: a tutorial.\\n          Spinger-Verlag, 1988.\\n  [DEN82] D. Denning, Cryptography and Data Security. Addison-Wesley\\n          Publishing Company, 1982.\\n  [KOB89] N. Koblitz, A course in number theory and cryptography.\\n          Springer-Verlag, 1987.\\n  [KON81] A. Konheim, Cryptography: a primer. Wiley, 1981.\\n  [MEY82] C. Meyer and S. Matyas, Cryptography: A new dimension in\\n          computer security. Wiley, 1982.\\n  [PAT87] Wayne Patterson, Mathematical Cryptology for Computer\\n          Scientists and Mathematicians. Rowman & Littlefield, 1987.\\n  [PFL89] C. Pfleeger, Security in Computing. Prentice-Hall, 1989.\\n  [PRI84] W. Price, D. Davies, Security for computer networks. Wiley, 1984. \\n  [RUE86] R. Rueppel, Design and Analysis of Stream Ciphers.\\n          Springer-Verlag, 1986.\\n  [SAL90] A. Saloma, Public-key cryptography. Springer-Verlag, 1990.\\n  [WEL88] D. Welsh, Codes and Cryptography. Claredon Press, 1988.\\n\\n* Survey articles\\n\\n  [ANG83] D. Angluin, D. Lichtenstein, Provable Security in Crypto-\\n          systems: a survey. Yale University, Department of Computer\\n          Science, #288, 1983.\\n  [BET90] T. Beth, Algorithm engineering for public key algorithms.\\n          IEEE Selected Areas of Communication, 1(4), 458--466,\\n          1990.\\n  [DAV83] M. Davio, J. Goethals, Elements of cryptology. in Secure\\n          Digital Communications, G. Longo ed., 1--57, 1983.\\n  [DIF79] W. Diffie, M. Hellman, Privacy and Authentication: An\\n          introduction to cryptography. IEEE proceedings, 67(3),\\n          397--427, 1979.\\n  [DIF88] W. Diffie, The first ten years of public key cryptography.\\n          IEEE proceedings, 76(5), 560--577, 1988.\\n  [FEI73] H. Feistel, Cryptography and Computer Privacy. Scientific \\n          American, 228(5), 15--23, 1973.\\n  [FEI75] H. Feistel, H, W. Notz, J. Lynn Smith. Some cryptographic\\n          techniques for machine-to-machine data communications,\\n          IEEE IEEE proceedings, 63(11), 1545--1554, 1975.\\n  [HEL79] M. Hellman, The mathematics of public key cryptography.\\n          Scientific American, 130--139, 1979.\\n  [LAK83] S. Lakshmivarahan, Algorithms for public key\\n          cryptosystems. In Advances in Computers, M. Yovtis ed.,\\n          22, Academic Press, 45--108, 1983.\\n  [LEM79] A. Lempel, Cryptology in transition, Computing Surveys,\\n          11(4), 285--304, 1979.\\n  [MAS88] J. Massey, An introduction to contemporary cryptology, IEEE\\n          proceedings, 76(5), 533--549, 1988.\\n  [SIM91] G. Simmons (ed.), Contemporary Cryptology: the Science of\\n          Information Integrity. IEEE press, 1991.\\n\\n* Reference articles\\n\\n  [AND83] D. Andelman, J. Reeds, On the cryptanalysis of rotor and\\n          substitution-permutation networks. IEEE Trans. on Inform.\\n          Theory, 28(4), 578--584, 1982.\\n  [BEN87] John Bennett, Analysis of the Encryption Algorithm Used in\\n          the WordPerfect Word Processing Program. Cryptologia 11(4),\\n          206--210, 1987.\\n  [BER91] H. A. Bergen and W. J. Caelli, File Security in WordPerfect\\n          5.0. Cryptologia 15(1), 57--66, January 1991.\\n  [BIH91] E. Biham and A. Shamir, Differential cryptanalysis of\\n          DES-like cryptosystems. Journal of Cryptology, vol. 4, #1,\\n          3--72, 1991.\\n  [BI91a] E. Biham, A. Shamir, Differential cryptanalysis of Snefru,\\n          Khafre, REDOC-II, LOKI and LUCIFER. In Proceedings of CRYPTO\\n          \\'91, ed. by J. Feigenbaum, 156--171, 1992.\\n  [BOY89] J. Boyar, Inferring Sequences Produced by Pseudo-Random\\n          Number Generators. Journal of the ACM, 1989.\\n  [BRI86] E. Brickell, J. Moore, M. Purtill, Structure in the\\n          S-boxes of DES. In Proceedings of CRYPTO \\'86, A. M. Odlyzko\\n          ed., 3--8, 1987.\\n  [BRO89] L. Brown, A proposed design for an extended DES, Computer\\n          Security in the Computer Age. Elsevier Science Publishers\\n          B.V. (North Holland), IFIP, W. J. Caelli ed., 9--22, 1989.\\n  [BRO90] L. Brown, J. Pieprzyk, J. Seberry, LOKI - a cryptographic\\n          primitive for authentication and secrecy applications.\\n          In Proceedings of AUSTCRYPT 90, 229--236, 1990.\\n  [CAE90] H. Gustafson, E. Dawson, W. Caelli, Comparison of block\\n          ciphers. In Proceedings of AUSCRYPT \\'90, J. Seberry and J.\\n          Piepryzk eds., 208--220, 1990.\\n  [CAM93] K. W. Campbell, M. J. Wiener, Proof the DES is Not a Group.\\n          In Proceedings of CRYPTO \\'92, 1993.\\n  [ELL88] Carl M. Ellison, A Solution of the Hebern Messages. Cryptologia,\\n          vol. XII, #3, 144-158, Jul 1988.\\n  [EVE83] S. Even, O. Goldreich, DES-like functions can generate the\\n          alternating group. IEEE Trans. on Inform. Theory, vol. 29,\\n          #6, 863--865, 1983.\\n  [GAR91] G. Garon, R. Outerbridge, DES watch: an examination of the\\n          sufficiency of the Data Encryption Standard for financial\\n          institutions in the 1990\\'s. Cryptologia, vol. XV, #3,\\n          177--193, 1991.\\n  [GIL80] Gillogly, ?. Cryptologia 4(2), 1980.\\n  [GM82]  Shafi Goldwasser, Silvio Micali, Probabilistic Encryption and\\n\\t  How To Play Mental Poker Keeping Secret All Partial Information.\\n\\t  Proceedings of the Fourteenth Annual ACM Symposium on Theory of\\n\\t  Computing, 1982.\\n  [HUM83] D. G. N. Hunter and A. R. McKenzie, Experiments with\\n          Relaxation Algorithms for Breaking Simple Substitution\\n          Ciphers. Computer Journal 26(1), 1983.\\n  [KAM78] J. Kam, G. Davida, A structured design of substitution-\\n          permutation encryption networks. IEEE Trans. Information\\n          Theory, 28(10), 747--753, 1978.\\n  [KIN78] P. Kinnucan, Data encryption gurus: Tuchman and Meyer.\\n          Cryptologia, vol. II #4, 371--XXX, 1978.\\n  [KRU88] Kruh, ?. Cryptologia 12(4), 1988.\\n  [LAI90] X. Lai, J. Massey, A proposal for a new block encryption \\n          standard. EUROCRYPT 90, 389--404, 1990.\\n  [LUB88] C. Rackoff, M. Luby, How to construct psuedorandom\\n          permutations from psuedorandom functions. SIAM Journal of\\n          Computing, vol. 17, #2, 373--386, 1988.\\n  [MAS88] J. Massey, An introduction to contemporary cryptology.\\n          IEEE proceedings, 76(5), 533--549, 1988.\\n  [ME91a] R. Merkle, Fast software encryption functions. In Proceedings\\n          of CRYPTO \\'90, Menezes and Vanstone ed., 476--501, 1991.\\n  [MEY78] C. Meyer, Ciphertext/plaintext and ciphertext/key\\n          dependence vs. number of rounds for the Data Encryption\\n          Standard. AFIPS Conference proceedings, 47, 1119--1126,\\n          1978.\\n  [NBS77] Data Encryption Standard. National Bureau of Standards,\\n          FIPS PUB 46, Washington, DC, January 1977.\\n  [REE77] J. Reeds, `Cracking\\' a Random Number Generator.\\n          Cryptologia 1(1), 20--26, 1977.\\n  [REE84] J. A. Reeds and P. J. Weinberger, File Security and the UNIX\\n          Crypt Command. AT&T Bell Laboratories Technical Journal,\\n          Vol. 63 #8, part 2, 1673--1684, October, 1984.\\n  [SHA49] C. Shannon, Communication Theory of Secrecy Systems. Bell\\n          System Technical Journal 28(4), 656--715, 1949.\\n  [SHE88] B. Kaliski, R. Rivest, A. Sherman, Is the Data Encryption\\n          Standard a Group. Journal of Cryptology, vol. 1, #1,\\n          1--36, 1988.\\n  [SHI88] A. Shimizu, S. Miyaguchi, Fast data encipherment algorithm\\n          FEAL. EUROCRYPT \\'87, 267--278, 1988.\\n  [SOR84] A. Sorkin, LUCIFER: a cryptographic algorithm.\\n          Cryptologia, 8(1), 22--35, 1984.\\n\\t\\n* Journals, conference proceedings\\n\\n  CRYPTO\\n  Eurocrypt\\n  IEEE Transactions on Information Theory\\n  Cryptologia: a cryptology journal, quarterly since Jan 1977.\\n          Cryptologia; Rose-Hulman Institute of Technology; Terre Haute\\n          Indiana 47803 [general: systems, analysis, history, ...]\\n  Journal of Cryptology; International Association for Cryptologic\\n          Research; published by Springer Verlag (quarterly since\\n          1988).\\n  The Cryptogram (Journal of the American Cryptogram Association);\\n          18789 West Hickory Street; Mundelein, IL 60060; [primarily\\n          puzzle cryptograms of various sorts]\\n  Cryptosystems Journal, Published by Tony Patti, P.O. Box 188,\\n          Newtown PA, USA 18940-0188 or tony_s_patti@cup.portal.com.\\n\\t  Publisher\\'s comment: Includes complete cryptosystems with\\n\\t  source and executable programs on diskettes. Tutorial. The\\n\\t  typical cryptosystems supports multi-megabit keys and Galois\\n\\t  Field arithmetic. Inexpensive hardware random number\\n\\t  generator details.\\n\\n  Computer and Communication Security Reviews, published by Ross Anderson.\\n\\t  Sample issue available from various ftp sites, including\\n\\t  black.ox.ac.uk.  Editorial c/o rja14@cl.cam.ac.uk.  Publisher\\'s\\n\\t  comment: We review all the conference proceedings in this field,\\n\\t  including not just Crypto and Eurocrypt, but regional gatherings\\n\\t  like Auscrypt and Chinacrypt. We also abstract over 50 journals,\\n\\t  and cover computer security as well as cryptology, so readers can\\n\\t  see the research trends in applications as well as theory.\\n\\n* Other\\n\\n  Address of note: Aegean Park Press, P.O. Box 2837, Laguna Hills, CA\\n  92654-0837. Answering machine at 714-586-8811.\\n\\n  The ``Orange Book\\'\\' is DOD 5200.28-STD, published December 1985 as\\n  part of the ``rainbow book\\'\\' series. Write to Department of Defense,\\n  National Security Agency, ATTN: S332, 9800 Savage Road, Fort Meade, MD\\n  20755-6000, and ask for the Trusted Computer System Evaluation\\n  Criteria. Or call 301-766-8729.\\n\\n  [BAMFD] Bamford, The Puzzle Palace. Penguin Books, ?.\\n  [GOO83] I. J. Good, Good Thinking: the foundations of probability and\\n          its applications. University of Minnesota Press, 1983.\\n  [KNU81] D. E. Knuth, The Art of Computer Programming, volume 2:\\n          Seminumerical Algorithms. Addison-Wesley, 1981.\\n  [KUL68] Soloman Kullbach, Information Theory and Statistics.\\n          Dover, 1968.\\n  [YAO88] A. Yao, Computational Information Theory. In Complexity in\\n          Information Theory, ed. by Abu-Mostafa, 1988.\\n\\n* How may one obtain copies of FIPS and ANSI standards cited herein?\\n\\n  Many textbooks on cryptography contain complete reprints of the FIPS\\n  standards, which are not copyrighted.\\n\\n  The following standards may be ordered from the\\n      U.S. Department of Commerce, National Technical Information Service,\\n      Springfield, VA 22161.\\n\\n      FIPS PUB 46-1 \"Data Encryption Standard\"  (this is DES)\\n      FIPS PUB 74   \"Guidelines for Implementing as Using the NBS DES\"\\n      FIPS PUB 81   \"DES Modes of Operation\"\\n      FIPS PUB 113  \"Computer Data Authentication\" (using DES)\\n\\n  The following standards may be ordered from the\\n      American National Standards Institute Sales Office,\\n      1430 Broadway, New York, NY 10018.\\n      Phone 212.642.4900\\n\\n      ANSI X3.92-1981  \"Data Encryption Algorithm\" (identical to FIPS 46-1)\\n      ANSI X3.106-1983 \"DEA Modes of Operation\"    (identical to FIPS 113)\\n\\n  Notes:  Figure 3 in FIPS PUB 46-1 is in error, but figure 3 in X3.92-1981\\n      is correct.  The text is correct in both publications.\\n\\n\\n* Electronic sources\\n\\n  Anonymous ftp:\\n\\n  [FTPBK] ftp.uu.net:bsd-sources/usr.bin/des/\\n  [FTPCB] ftp.uu.net:usenet/comp.sources.unix/volume10/cbw/\\n  [FTPDF] ftp.funet.fi:pub/unix/security/destoo.tar.Z\\n  [FTPEY] ftp.psy.uq.oz.au:pub/DES/\\n  [FTPMD] rsa.com:?\\n  [FTPMR] cl-next3.cl.msu.edu:pub/crypt/newdes.tar.Z\\n  [FTPOB] ftp.3com.com:Orange-book\\n  [FTPPF] prep.ai.mit.edu:pub/lpf/\\n  [FTPPK] ucsd.edu:hamradio/packet/tcpip/crypto/des.tar.Z\\n  [FTPRF] nic.merit.edu:documents/rfc/\\n  [FTPSF] beta.xerox.com:pub/hash/\\n  [FTPSO] chalmers.se:pub/des/des.1.0.tar.Z\\n  [FTPUF] ftp.uu.net:usenet/comp.sources.unix/volume28/ufc-crypt/\\n  [FTPWP] garbo.uwasa.fi:pc/util/wppass2.zip\\n\\n* RFCs (available from [FTPRF])\\n\\n\\n1424  Kaliski, B.  Privacy Enhancement for Internet Electronic Mail: Part IV:\\n      Key Certification and Related Services.  1993 February; 9 p. (Format:\\n      TXT=17538 bytes)\\n\\n1423  Balenson, D.  Privacy Enhancement for Internet Electronic Mail: Part\\n      III: Algorithms, Modes, and Identifiers.  1993 February; 14 p. (Format:\\n      TXT=33278 bytes)  (Obsoletes RFC 1115)\\n\\n1422  Kent, S.  Privacy Enhancement for Internet Electronic Mail: Part II:\\n      Certificate-Based Key Management.  1993 February; 32 p. (Format:\\n      TXT=86086 bytes)  (Obsoletes RFC 1114)\\n\\n1421  Linn, J.  Privacy Enhancement for Internet Electronic Mail: Part I:\\n      Message Encryption and Authentication Procedures.  1993 February; 42 p.\\n      (Format: TXT=103895 bytes)  (Obsoletes RFC 1113)\\n\\n\\n* Related newsgroups\\n\\n  There are other newsgroups which a sci.crypt reader might want also to\\n  read.  Some have their own FAQ as well.\\n\\n  alt.comp.compression\\t\\tdiscussion of compression algorithms and code\\n  alt.security\\t\\t\\tgeneral security discussions\\n  alt.security.index\\t\\tindex to alt.security\\n  alt.security.pgp\\t\\tdiscussion of PGP\\n  alt.security.ripem\\t\\tdiscussion of RIPEM\\n  alt.society.civil-liberty\\tgeneral civil liberties, including privacy\\n  comp.org.eff.news\\t\\tNews reports from EFF\\n  comp.org.eff.talk\\t\\tdiscussion of EFF related issues\\n  comp.patents\\t\\t\\tdiscussion of S/W patents, including RSA\\n  comp.risks\\t\\t\\tsome mention of crypto and wiretapping\\n  comp.society.privacy\\t\\tgeneral privacy issues\\n  comp.security.announce\\tannouncements of security holes\\n  misc.legal.computing\\t\\t\\n  sci.math\\t\\t\\tgeneral math discussion\\n',\n",
              " 'From:  ()\\nSubject: Re: Quadra SCSI Problems???\\nOrganization: Apple Computer Inc.\\nLines: 28\\n\\n> ATTENTION: Mac Quadra owners: Many storage industry experts have\\n> concluded that Mac Quadras suffer from timing irregularities deviating\\n> from the standard SCSI specification. This results in silent corruption\\n> of data when used with some devices, including ultra-modern devices.\\n> Although I will not name the devices, since it is not their fault, an\\n> example would be a Sony 3.5 inch MO, without the special \"Mac-compatible\"\\n> firmware installed. One solution, sometimes, is to disable \"blind writes\"\\n> \\nTo the best of my knowledge there aren\\'t any problems with Quadras and\\nblind transfers.  Trouble with blind transfers usually means the programmer\\nscrewed up the TIBs or didn\\'t test their driver with the device in question.\\nWell designed TIBs poll or loop at every point where delays of >16�sec occur.\\nThis usually occurs at the first byte of each block of a transfer but some\\ndevices can \"hiccup\" in the middle of blocks.  If this happens in the middle\\nof a blind transfer there is the possibility of losing or gaining a byte\\ndepending on which direction the tranfer was going.  In anycase the SCSI Manager\\nwill eventually return a phase error at the end of the transaction because\\nit is out of sync.  Actual data loss would only occur if the driver didn\\'t\\npay attention to the errors coming back.\\n\\nNote that this effect is not caused by anything actually on the SCSI Bus but\\nrather by the transfer loops inside the SCSI Manager.  The problem occurs when\\nthe processor bus errors trying to access the SCSI chip when the next byte\\nhasn\\'t been clocked yet.  Also note that the Bus Error is dealt with by a bus\\nerror handler and doesn\\'t crash the machine...\\n\\nClinton Bauder\\nApple Computer\\n',\n",
              " \"From: keith@cco.caltech.edu (Keith Allan Schneider)\\nSubject: Re: <Political Atheists?\\nOrganization: California Institute of Technology, Pasadena\\nLines: 14\\nNNTP-Posting-Host: lloyd.caltech.edu\\n\\nbobbe@vice.ICO.TEK.COM (Robert Beauchaine) writes:\\n\\n>To show that the examples I and others\\n>have provided are *not* counter examples of your supposed inherent\\n>moral hypothesis, you have to successfully argue that\\n>domestication removes or alters this morality.\\n\\nI think that domestication will change behavior to a large degree.\\nDomesticated animals exhibit behaviors not found in the wild.  I\\ndon't think that they can be viewed as good representatives of the\\nwild animal kingdom, since they have been bred for thousands of years\\nto produce certain behaviors, etc.\\n\\nkeith\\n\"]"
            ]
          },
          "metadata": {
            "tags": []
          },
          "execution_count": 7
        }
      ]
    },
    {
      "cell_type": "code",
      "metadata": {
        "colab": {
          "base_uri": "https://localhost:8080/"
        },
        "id": "CuToCRG323Ch",
        "outputId": "34ad9c57-5e61-4cae-c11d-9b7cbcb4ab83"
      },
      "source": [
        "# Putting the words in the dictionary\r\n",
        "\r\n",
        "newsgroups_full_dnry = dict()\r\n",
        "for ind in range(len(df_train.data)):\r\n",
        "    grp_name = df_train.target_names[df_train.target[ind]]\r\n",
        "    if grp_name in newsgroups_full_dnry:\r\n",
        "        newsgroups_full_dnry[grp_name] += 1\r\n",
        "    else:\r\n",
        "        newsgroups_full_dnry[grp_name] = 1\r\n",
        "print(\"Total number of articles in dataset \" + str(len(df_train.data)))"
      ],
      "execution_count": 8,
      "outputs": [
        {
          "output_type": "stream",
          "text": [
            "Total number of articles in dataset 11314\n"
          ],
          "name": "stdout"
        }
      ]
    },
    {
      "cell_type": "markdown",
      "metadata": {
        "id": "vV9Fvss-3gGI"
      },
      "source": [
        "Pie chart of distribution of the articles"
      ]
    },
    {
      "cell_type": "code",
      "metadata": {
        "colab": {
          "base_uri": "https://localhost:8080/",
          "height": 288
        },
        "id": "riweT3573Uda",
        "outputId": "dac526d4-55d2-4010-cc3a-509cc1501978"
      },
      "source": [
        "import matplotlib.pyplot as plt\r\n",
        "\r\n",
        "\r\n",
        "labels = df_train.target_names\r\n",
        "\r\n",
        "slices = []\r\n",
        "\r\n",
        "for key in newsgroups_full_dnry:\r\n",
        "    slices.append(newsgroups_full_dnry[key])\r\n",
        "    \r\n",
        "fig , ax = plt.subplots()\r\n",
        "\r\n",
        "ax.pie(slices, labels = labels , autopct = '%1.1f%%', shadow = True, startangle = 90)\r\n",
        "\r\n",
        "ax.axis(\"equal\")\r\n",
        "ax.set_title(\"News groups messages distribution\")"
      ],
      "execution_count": 9,
      "outputs": [
        {
          "output_type": "execute_result",
          "data": {
            "text/plain": [
              "Text(0.5, 1.0, 'News groups messages distribution')"
            ]
          },
          "metadata": {
            "tags": []
          },
          "execution_count": 9
        },
        {
          "output_type": "display_data",
          "data": {
            "image/png": "[encoded data removed]",
            "text/plain": [
              "<Figure size 432x288 with 1 Axes>"
            ]
          },
          "metadata": {
            "tags": []
          }
        }
      ]
    },
    {
      "cell_type": "markdown",
      "metadata": {
        "id": "frJHtz1UzDA4"
      },
      "source": [
        "***2. Text Cleaning and Pre-processing*** :\r\n",
        "\r\n",
        "In Natural Language Processing (NLP), most of the text and documents contain many words that are redundant for text classification, such as stopwords, miss-spellings, slangs, and etc. In this section, we briefly explain some techniques and methods for text cleaning and pre-processing text documents."
      ]
    },
    {
      "cell_type": "code",
      "metadata": {
        "colab": {
          "base_uri": "https://localhost:8080/"
        },
        "id": "UAjkWDzf31_L",
        "outputId": "b6fa6d8a-c347-4a68-d783-b9796ac35b3c"
      },
      "source": [
        "import pandas as pd\r\n",
        "data_labels_map = dict(enumerate(df_train.target_names))\r\n",
        "message, target_labels, target_names = (df_train.data, df_train.target, [data_labels_map[label] for label in df_train.target])\r\n",
        "newsgroups_full_df = pd.DataFrame({'text': message, 'source': target_labels, 'source_name': target_names})\r\n",
        "print(newsgroups_full_df.shape)"
      ],
      "execution_count": 10,
      "outputs": [
        {
          "output_type": "stream",
          "text": [
            "(11314, 3)\n"
          ],
          "name": "stdout"
        }
      ]
    },
    {
      "cell_type": "code",
      "metadata": {
        "colab": {
          "base_uri": "https://localhost:8080/",
          "height": 363
        },
        "id": "Vt2RZfWB5DzN",
        "outputId": "0b49bd61-d65a-4b87-b435-95db6bb9847f"
      },
      "source": [
        "newsgroups_full_df.head(10)"
      ],
      "execution_count": 11,
      "outputs": [
        {
          "output_type": "execute_result",
          "data": {
            "text/html": [
              "<div>\n",
              "<style scoped>\n",
              "    .dataframe tbody tr th:only-of-type {\n",
              "        vertical-align: middle;\n",
              "    }\n",
              "\n",
              "    .dataframe tbody tr th {\n",
              "        vertical-align: top;\n",
              "    }\n",
              "\n",
              "    .dataframe thead th {\n",
              "        text-align: right;\n",
              "    }\n",
              "</style>\n",
              "<table border=\"1\" class=\"dataframe\">\n",
              "  <thead>\n",
              "    <tr style=\"text-align: right;\">\n",
              "      <th></th>\n",
              "      <th>text</th>\n",
              "      <th>source</th>\n",
              "      <th>source_name</th>\n",
              "    </tr>\n",
              "  </thead>\n",
              "  <tbody>\n",
              "    <tr>\n",
              "      <th>0</th>\n",
              "      <td>From: cubbie@garnet.berkeley.edu (            ...</td>\n",
              "      <td>9</td>\n",
              "      <td>rec.sport.baseball</td>\n",
              "    </tr>\n",
              "    <tr>\n",
              "      <th>1</th>\n",
              "      <td>From: gnelson@pion.rutgers.edu (Gregory Nelson...</td>\n",
              "      <td>4</td>\n",
              "      <td>comp.sys.mac.hardware</td>\n",
              "    </tr>\n",
              "    <tr>\n",
              "      <th>2</th>\n",
              "      <td>From: crypt-comments@math.ncsu.edu\\nSubject: C...</td>\n",
              "      <td>11</td>\n",
              "      <td>sci.crypt</td>\n",
              "    </tr>\n",
              "    <tr>\n",
              "      <th>3</th>\n",
              "      <td>From:  ()\\nSubject: Re: Quadra SCSI Problems??...</td>\n",
              "      <td>4</td>\n",
              "      <td>comp.sys.mac.hardware</td>\n",
              "    </tr>\n",
              "    <tr>\n",
              "      <th>4</th>\n",
              "      <td>From: keith@cco.caltech.edu (Keith Allan Schne...</td>\n",
              "      <td>0</td>\n",
              "      <td>alt.atheism</td>\n",
              "    </tr>\n",
              "    <tr>\n",
              "      <th>5</th>\n",
              "      <td>From: taihou@chromium.iss.nus.sg (Tng Tai Hou)...</td>\n",
              "      <td>4</td>\n",
              "      <td>comp.sys.mac.hardware</td>\n",
              "    </tr>\n",
              "    <tr>\n",
              "      <th>6</th>\n",
              "      <td>From: huub@cwi.nl (Huub Bakker)\\nSubject: wait...</td>\n",
              "      <td>5</td>\n",
              "      <td>comp.windows.x</td>\n",
              "    </tr>\n",
              "    <tr>\n",
              "      <th>7</th>\n",
              "      <td>From: lanzo@tekelec.com (Mark Lanzo)\\nSubject:...</td>\n",
              "      <td>5</td>\n",
              "      <td>comp.windows.x</td>\n",
              "    </tr>\n",
              "    <tr>\n",
              "      <th>8</th>\n",
              "      <td>Subject: Why isolate it?\\nFrom: chinsz@eis.cal...</td>\n",
              "      <td>13</td>\n",
              "      <td>sci.med</td>\n",
              "    </tr>\n",
              "    <tr>\n",
              "      <th>9</th>\n",
              "      <td>From: seema@madvlsi.columbia.edu (Seema Varma)...</td>\n",
              "      <td>12</td>\n",
              "      <td>sci.electronics</td>\n",
              "    </tr>\n",
              "  </tbody>\n",
              "</table>\n",
              "</div>"
            ],
            "text/plain": [
              "                                                text  ...            source_name\n",
              "0  From: cubbie@garnet.berkeley.edu (            ...  ...     rec.sport.baseball\n",
              "1  From: gnelson@pion.rutgers.edu (Gregory Nelson...  ...  comp.sys.mac.hardware\n",
              "2  From: crypt-comments@math.ncsu.edu\\nSubject: C...  ...              sci.crypt\n",
              "3  From:  ()\\nSubject: Re: Quadra SCSI Problems??...  ...  comp.sys.mac.hardware\n",
              "4  From: keith@cco.caltech.edu (Keith Allan Schne...  ...            alt.atheism\n",
              "5  From: taihou@chromium.iss.nus.sg (Tng Tai Hou)...  ...  comp.sys.mac.hardware\n",
              "6  From: huub@cwi.nl (Huub Bakker)\\nSubject: wait...  ...         comp.windows.x\n",
              "7  From: lanzo@tekelec.com (Mark Lanzo)\\nSubject:...  ...         comp.windows.x\n",
              "8  Subject: Why isolate it?\\nFrom: chinsz@eis.cal...  ...                sci.med\n",
              "9  From: seema@madvlsi.columbia.edu (Seema Varma)...  ...        sci.electronics\n",
              "\n",
              "[10 rows x 3 columns]"
            ]
          },
          "metadata": {
            "tags": []
          },
          "execution_count": 11
        }
      ]
    },
    {
      "cell_type": "markdown",
      "metadata": {
        "id": "1bLgmu-uQv86"
      },
      "source": [
        "##### ***2-1 Stop words***"
      ]
    },
    {
      "cell_type": "code",
      "metadata": {
        "colab": {
          "base_uri": "https://localhost:8080/"
        },
        "id": "R5W3aCmK5NdV",
        "outputId": "dd8b2d6c-c896-446c-d73b-bba68d7558a7"
      },
      "source": [
        "import nltk\r\n",
        "import nltk\r\n",
        "nltk.download('stopwords')\r\n",
        "nltk.download('words')\r\n",
        "from nltk.corpus import names\r\n",
        "from nltk.stem import WordNetLemmatizer\r\n",
        "from nltk.stem import PorterStemmer\r\n",
        "from nltk.corpus import stopwords\r\n",
        "from nltk.tokenize import word_tokenize\r\n",
        "import re\r\n",
        "\r\n",
        "stopWords = set(stopwords.words('english'))\r\n",
        "validwords = set(nltk.corpus.words.words())"
      ],
      "execution_count": 15,
      "outputs": [
        {
          "output_type": "stream",
          "text": [
            "[nltk_data] Downloading package stopwords to /root/nltk_data...\n",
            "[nltk_data]   Package stopwords is already up-to-date!\n",
            "[nltk_data] Downloading package words to /root/nltk_data...\n",
            "[nltk_data]   Unzipping corpora/words.zip.\n"
          ],
          "name": "stdout"
        }
      ]
    },
    {
      "cell_type": "markdown",
      "metadata": {
        "id": "mmLLGRWG69kq"
      },
      "source": [
        "**re** is regular expression library in python. We need to first define few functions such as **text_tokenizer**. The main aim is to clean the posts first by removing the alpha-numeric, numeric and non-alphabatic characters then by applying **stemming** and **lemmmatizing** techiniques so that we are left with only the words which are meaningful for the analysis. Lets write the functions for the same"
      ]
    },
    {
      "cell_type": "code",
      "metadata": {
        "id": "41QUDdw55q36"
      },
      "source": [
        "porter_stemmer = PorterStemmer()\r\n",
        "lemmatizer = WordNetLemmatizer()\r\n",
        "def text_tokenizer(str_input):\r\n",
        "    words = re.sub(r\"[^A-Za-z\\-]\", \" \", str_input).lower().split()\r\n",
        "    words = [porter_stemmer.stem(word) for word in words if len(word) > 2 ]\r\n",
        "    words = [lemmatizer.lemmatize(word) for word in words if len(word) > 2 and word in validwords and word not in stopWords]\r\n",
        "    return ' '.join(words)"
      ],
      "execution_count": 16,
      "outputs": []
    },
    {
      "cell_type": "markdown",
      "metadata": {
        "id": "M64h9F4F7Wr4"
      },
      "source": [
        "Next is to apply **text_tokenizer** function to get a new column having clean text"
      ]
    },
    {
      "cell_type": "code",
      "metadata": {
        "colab": {
          "base_uri": "https://localhost:8080/",
          "height": 244
        },
        "id": "BecMBXle50la",
        "outputId": "73d8b412-5331-45f3-e343-00b8a1a59b64"
      },
      "source": [
        "nltk.download('wordnet')\r\n",
        "newsgroups_full_df['clean_text'] = newsgroups_full_df.text.apply(lambda x: text_tokenizer(x))\r\n",
        "newsgroups_full_df.sort_values(by=['source'],inplace=True)\r\n",
        "newsgroups_full_df.head(5)"
      ],
      "execution_count": 18,
      "outputs": [
        {
          "output_type": "stream",
          "text": [
            "[nltk_data] Downloading package wordnet to /root/nltk_data...\n",
            "[nltk_data]   Unzipping corpora/wordnet.zip.\n"
          ],
          "name": "stdout"
        },
        {
          "output_type": "execute_result",
          "data": {
            "text/html": [
              "<div>\n",
              "<style scoped>\n",
              "    .dataframe tbody tr th:only-of-type {\n",
              "        vertical-align: middle;\n",
              "    }\n",
              "\n",
              "    .dataframe tbody tr th {\n",
              "        vertical-align: top;\n",
              "    }\n",
              "\n",
              "    .dataframe thead th {\n",
              "        text-align: right;\n",
              "    }\n",
              "</style>\n",
              "<table border=\"1\" class=\"dataframe\">\n",
              "  <thead>\n",
              "    <tr style=\"text-align: right;\">\n",
              "      <th></th>\n",
              "      <th>text</th>\n",
              "      <th>source</th>\n",
              "      <th>source_name</th>\n",
              "      <th>clean_text</th>\n",
              "    </tr>\n",
              "  </thead>\n",
              "  <tbody>\n",
              "    <tr>\n",
              "      <th>3746</th>\n",
              "      <td>From: keith@cco.caltech.edu (Keith Allan Schne...</td>\n",
              "      <td>0</td>\n",
              "      <td>alt.atheism</td>\n",
              "      <td>allan schneider subject atheist organ line pun...</td>\n",
              "    </tr>\n",
              "    <tr>\n",
              "      <th>1398</th>\n",
              "      <td>From: william.vaughan@uuserv.cc.utah.edu (WILL...</td>\n",
              "      <td>0</td>\n",
              "      <td>alt.atheism</td>\n",
              "      <td>subject question line organ center rice rice p...</td>\n",
              "    </tr>\n",
              "    <tr>\n",
              "      <th>9833</th>\n",
              "      <td>From: chrisb@tafe.sa.edu.au (Chris BELL)\\nSubj...</td>\n",
              "      <td>0</td>\n",
              "      <td>alt.atheism</td>\n",
              "      <td>bell subject die without death organ south reg...</td>\n",
              "    </tr>\n",
              "    <tr>\n",
              "      <th>3153</th>\n",
              "      <td>From: ingles@engin.umich.edu (Ray Ingles)\\nSub...</td>\n",
              "      <td>0</td>\n",
              "      <td>alt.atheism</td>\n",
              "      <td>ray subject yeah right organ michigan ann arbo...</td>\n",
              "    </tr>\n",
              "    <tr>\n",
              "      <th>10828</th>\n",
              "      <td>From: healta@saturn.wwc.edu (Tammy R Healy)\\nS...</td>\n",
              "      <td>0</td>\n",
              "      <td>alt.atheism</td>\n",
              "      <td>subject book mormon line organ line write subj...</td>\n",
              "    </tr>\n",
              "  </tbody>\n",
              "</table>\n",
              "</div>"
            ],
            "text/plain": [
              "                                                    text  ...                                         clean_text\n",
              "3746   From: keith@cco.caltech.edu (Keith Allan Schne...  ...  allan schneider subject atheist organ line pun...\n",
              "1398   From: william.vaughan@uuserv.cc.utah.edu (WILL...  ...  subject question line organ center rice rice p...\n",
              "9833   From: chrisb@tafe.sa.edu.au (Chris BELL)\\nSubj...  ...  bell subject die without death organ south reg...\n",
              "3153   From: ingles@engin.umich.edu (Ray Ingles)\\nSub...  ...  ray subject yeah right organ michigan ann arbo...\n",
              "10828  From: healta@saturn.wwc.edu (Tammy R Healy)\\nS...  ...  subject book mormon line organ line write subj...\n",
              "\n",
              "[5 rows x 4 columns]"
            ]
          },
          "metadata": {
            "tags": []
          },
          "execution_count": 18
        }
      ]
    },
    {
      "cell_type": "code",
      "metadata": {
        "id": "HjLxCzYuDetB"
      },
      "source": [
        "wordlst = list()\r\n",
        "newsgroup_dic = dict()\r\n",
        "label = ''"
      ],
      "execution_count": 21,
      "outputs": []
    },
    {
      "cell_type": "code",
      "metadata": {
        "id": "L8aV4CDQDilK"
      },
      "source": [
        "for i in range(0,20):\r\n",
        "    newsgroups_full_df_1 = newsgroups_full_df.loc[newsgroups_full_df['source'] == i]\r\n",
        "    for row in newsgroups_full_df_1[['source_name', 'clean_text']].iterrows():\r\n",
        "        r = row[1]\r\n",
        "        label = r.source_name\r\n",
        "        wordlst.append(''.join(map(str,r.clean_text)))\r\n",
        "        wordstr = ' '.join(map(str, wordlst))\r\n",
        "    newsgroup_dic[label] = wordstr\r\n",
        "    label = ''\r\n",
        "    wordstr = ''\r\n",
        "    wordlst.clear() "
      ],
      "execution_count": 22,
      "outputs": []
    },
    {
      "cell_type": "markdown",
      "metadata": {
        "id": "TORPC50IDqqw"
      },
      "source": [
        "Next steps will create the features out of the dictionary of the newsgroups words just created in the previous steps. In natural language processing feature extraction is an important step. In this case the words themselves becomes the features. To extract the features python provides an important library called **CountVectorizer**. We need to transform our **cleaned_text** using **sklearn.feature_extraction.text** and **CountVectorizer** library. Lets apply it to our newsgroup data."
      ]
    },
    {
      "cell_type": "markdown",
      "metadata": {
        "id": "NcpppGahEALz"
      },
      "source": [
        "***2-2*** Feature extraction"
      ]
    },
    {
      "cell_type": "markdown",
      "metadata": {
        "id": "2bRxY7-EEL0q"
      },
      "source": [
        "The feature vector can be created with **sklearn** **CountVectorizer**. When creating the feature vectors we can decide the number of features, as well as set limits for the minimum and maximum number of documents a word can appear.\r\n",
        "\r\n",
        "Note that the transformed data is stored in a **sparse matrix** (which is much more efficient for large data sets)."
      ]
    },
    {
      "cell_type": "code",
      "metadata": {
        "id": "sF4E43VXEghj"
      },
      "source": [
        "# First lets import it\r\n",
        "from  sklearn.feature_extraction.text import CountVectorizer\r\n",
        "count_vectorizer = CountVectorizer(stop_words = 'english')"
      ],
      "execution_count": 23,
      "outputs": []
    },
    {
      "cell_type": "code",
      "metadata": {
        "id": "llHXsk4sEmn2"
      },
      "source": [
        "def get_word_freq_dict_sorted(ng_X_df):\r\n",
        "    wordfreq = ng_X_df.sum(axis=0)\r\n",
        "    features = ng_X_df.columns.tolist()\r\n",
        "    counts = wordfreq.tolist()\r\n",
        "    wordfreq_df = pd.DataFrame()\r\n",
        "    wordfreq_df['word'] = features\r\n",
        "    wordfreq_df['count'] = counts\r\n",
        "    wordfreq_dict = dict(wordfreq_df.values.tolist())\r\n",
        "    wordfreqdict_sorted = dict(sorted(wordfreq_dict.items(), key=lambda x: x[1],reverse=True))\r\n",
        "    return wordfreqdict_sorted"
      ],
      "execution_count": 24,
      "outputs": []
    },
    {
      "cell_type": "markdown",
      "metadata": {
        "id": "q1CjBQJ3Majb"
      },
      "source": [
        "# Classification"
      ]
    },
    {
      "cell_type": "markdown",
      "metadata": {
        "id": "IKSLwB13FEEd"
      },
      "source": [
        "The goal of the **text classification** is to predict which newsgroup a post belongs to based on the post text.\r\n",
        "\r\n",
        "**BOW** and **TF-IDF** are two different techniques for text classification. I use **TF-IDF** "
      ]
    },
    {
      "cell_type": "markdown",
      "metadata": {
        "id": "RS3VD1dHFiXE"
      },
      "source": [
        "*Bag of Words (BoW)* is an algorithm that counts frequency of a word in newsgroups. Those word counts allow us to compare different newsgroups and gauge their similarities for applications like search, topic modeling etc.\r\n",
        "\r\n",
        "In *TF-IDF*, words are given weight. TF-IDF measures relevance, not frequency. That is, wordcounts are replaced with TF-IDF scores across the whole dataset.\r\n",
        "\r\n",
        "To use text classification algorithm we need to randomly separates data into training and testing dataset and fit the classifier with selected training data. A classifer defines model for text classification. The score gives us the accuracy for testing data.\r\n",
        "\r\n",
        "Different classifiers can give us different results for accuracy. Accuracy depends on the specific problem, number of categories and differences between them, etc."
      ]
    },
    {
      "cell_type": "markdown",
      "metadata": {
        "id": "rWlqAwHD-zbJ"
      },
      "source": [
        "### Support Vector Machine "
      ]
    },
    {
      "cell_type": "markdown",
      "metadata": {
        "id": "v8Cwqg7q-5A9"
      },
      "source": [
        "The original version of SVM was introduced by Vapnik and Chervonenkis in 1963. The early 1990s, nonlinear version was addressed by BE. Boser et al.. Original version of SVM was designed for binary classification problem, but Many researchers have worked on multi-class problem using this authoritative technique.\r\n",
        "\r\n",
        "The advantages of support vector machines are based on scikit-learn page:\r\n",
        "\r\n",
        "* Effective in high dimensional spaces.\r\n",
        "\r\n",
        "* Still effective in cases where number of dimensions is greater than the number of samples.\r\n",
        "* Uses a subset of training points in the decision function (called support vectors), so it is also memory efficient.\r\n",
        "* Versatile: different Kernel functions can be specified for the decision function. Common kernels are provided, but it is also possible to specify custom kernels.\r\n",
        "\r\n"
      ]
    },
    {
      "cell_type": "code",
      "metadata": {
        "id": "J1CsNGt8QDDj",
        "colab": {
          "base_uri": "https://localhost:8080/"
        },
        "outputId": "e7f96a84-6827-4823-b357-bd76c79ebc34"
      },
      "source": [
        "from sklearn.svm import LinearSVC\r\n",
        "from sklearn.pipeline import Pipeline\r\n",
        "from sklearn import metrics\r\n",
        "from sklearn.feature_extraction.text import CountVectorizer\r\n",
        "from sklearn.feature_extraction.text import TfidfTransformer\r\n",
        "\r\n",
        "\r\n",
        "X_train = df_train.data\r\n",
        "X_test = df_test.data\r\n",
        "y_train = df_train.target\r\n",
        "y_test = df_test.target\r\n",
        "\r\n",
        "text_clf = Pipeline([('vect', CountVectorizer()),\r\n",
        "                     ('tfidf', TfidfTransformer()),\r\n",
        "                     ('clf', LinearSVC()),\r\n",
        "                     ])\r\n",
        "\r\n",
        "text_clf.fit(X_train, y_train)\r\n",
        "\r\n",
        "\r\n",
        "predicted = text_clf.predict(X_test)\r\n",
        "\r\n",
        "print(metrics.classification_report(y_test, predicted))"
      ],
      "execution_count": 19,
      "outputs": [
        {
          "output_type": "stream",
          "text": [
            "              precision    recall  f1-score   support\n",
            "\n",
            "           0       0.82      0.80      0.81       319\n",
            "           1       0.76      0.80      0.78       389\n",
            "           2       0.77      0.73      0.75       394\n",
            "           3       0.71      0.76      0.74       392\n",
            "           4       0.84      0.86      0.85       385\n",
            "           5       0.87      0.76      0.81       395\n",
            "           6       0.83      0.91      0.87       390\n",
            "           7       0.92      0.91      0.91       396\n",
            "           8       0.95      0.95      0.95       398\n",
            "           9       0.92      0.95      0.93       397\n",
            "          10       0.96      0.98      0.97       399\n",
            "          11       0.93      0.94      0.93       396\n",
            "          12       0.81      0.79      0.80       393\n",
            "          13       0.90      0.87      0.88       396\n",
            "          14       0.90      0.93      0.92       394\n",
            "          15       0.84      0.93      0.88       398\n",
            "          16       0.75      0.92      0.82       364\n",
            "          17       0.97      0.89      0.93       376\n",
            "          18       0.82      0.62      0.71       310\n",
            "          19       0.75      0.61      0.68       251\n",
            "\n",
            "    accuracy                           0.85      7532\n",
            "   macro avg       0.85      0.85      0.85      7532\n",
            "weighted avg       0.85      0.85      0.85      7532\n",
            "\n"
          ],
          "name": "stdout"
        }
      ]
    },
    {
      "cell_type": "markdown",
      "metadata": {
        "id": "qLYHozZWBT4E"
      },
      "source": [
        "### Evalution : I use F-beta score macro/micro average"
      ]
    },
    {
      "cell_type": "code",
      "metadata": {
        "colab": {
          "base_uri": "https://localhost:8080/"
        },
        "id": "PRzloCFp_nCl",
        "outputId": "a43447de-8411-4106-cda8-22940f87defb"
      },
      "source": [
        "from sklearn.metrics import fbeta_score\r\n",
        "fbeta_score(y_test, predicted, average='macro', beta=0.5)"
      ],
      "execution_count": 20,
      "outputs": [
        {
          "output_type": "execute_result",
          "data": {
            "text/plain": [
              "0.8488705875773753"
            ]
          },
          "metadata": {
            "tags": []
          },
          "execution_count": 20
        }
      ]
    },
    {
      "cell_type": "markdown",
      "metadata": {
        "id": "LMwEdOk_HtvT"
      },
      "source": [
        "# Deployment"
      ]
    },
    {
      "cell_type": "markdown",
      "metadata": {
        "id": "ztY_684eKM38"
      },
      "source": [
        "For the deployment, I am using the virtual machine from **google cloud**.\r\n",
        "With my google cloud account, I ordered a CentOs7 server;\r\n",
        "Installed docker composes and builds containers.\r\n",
        "Then write a shell script that clones my project. "
      ]
    },
    {
      "cell_type": "markdown",
      "metadata": {
        "id": "OYC_QMTAK2fb"
      },
      "source": [
        "Building API"
      ]
    },
    {
      "cell_type": "code",
      "metadata": {
        "colab": {
          "base_uri": "https://localhost:8080/"
        },
        "id": "StLMj0y8HAkY",
        "outputId": "e9ea0807-9861-4dd6-c948-fae4ac10bef5"
      },
      "source": [
        "from flask import Flask, render_template, url_for, request\r\n",
        "app = Flask(__name__)\r\n",
        " \r\n",
        "@app.route('/', methods = ['GET','POST'])\r\n",
        "def main():\r\n",
        "    return \"\"\"<!DOCTYPE html>\r\n",
        "                <html>\r\n",
        "                    <head>\r\n",
        "                         <title>Catégoriser auto questions</title>\r\n",
        "                    </head>\r\n",
        "                    <body>\r\n",
        "                        <div align=\"center\" class=\"bg-info\">\r\n",
        "                            <h1>Stack Overflow predict keywords-tags</h1>\r\n",
        "                        </div>\r\n",
        "                        <div class=\"big\" align=\"center\">\r\n",
        "                            <form action=\"predict\" method=\"POST\">\r\n",
        "                                <h3>Enter Your Title</h3>\r\n",
        "                                <textarea name=\"title\" rows=\"1\" cols=\"70\"></textarea>\r\n",
        "                                <br>\r\n",
        "                                <h3>Enter Your Body</h3>\r\n",
        "                                <textarea name=\"body\" rows=\"20\" cols=\"70\"></textarea>\r\n",
        "                                   <br><br><br>\r\n",
        "                               <input type=\"submit\" name=\"\" value=\"Predict\" class=\"btn btn-info\">\r\n",
        "                              </form>\r\n",
        "                         </div>\r\n",
        "                    </body>\r\n",
        "                </html>\r\n",
        "                \"\"\"\r\n",
        "\r\n",
        "@app.route('/classification', methods = ['POST'])\r\n",
        "def classification():\r\n",
        "    title = \"\"\r\n",
        "    body = \"\"\r\n",
        "    if request.method == 'POST':\r\n",
        "        title = str(request.form['title'])\r\n",
        "        body = str(request.form['body'])\r\n",
        "        ret = preprocessing( body + title)\r\n",
        "    keywords, tags = prediction(body, title)\r\n",
        "    keys = keywords.split()\r\n",
        "    return \"\"\"\r\n",
        "            <!DOCTYPE html>\r\n",
        "            <html>\r\n",
        "                <head>\r\n",
        "                     <title>Catégoriser auto questions</title>\r\n",
        "                </head>\r\n",
        "                <body>\r\n",
        "                    <div class=\"big\" align=\"center\">\r\n",
        "                                <h4>Title entered</h4>\r\n",
        "                                <textarea name=\"title\" rows=\"1\" cols=\"100\"disabled>\"\"\"+ title +\"\"\"</textarea>\r\n",
        "                                <br>\r\n",
        "                                <h4>Body entered</h4>\r\n",
        "                                <textarea name=\"body\" rows=\"7\" cols=\"100\" disabled>\"\"\"+ body +\"\"\"</textarea>\r\n",
        "                                   <br><br>\r\n",
        "                    </div>\r\n",
        "                     <div class=\"bg-info\" align=\"center\">\r\n",
        "                         <h2>The keywords proposed</h2>\r\n",
        "                     </div>\r\n",
        "                     <div align=\"center\">\r\n",
        "                            <textarea rows=\"1\" cols=\"10\" disabled>\"\"\"+ keys[0] +\"\"\"</textarea>\r\n",
        "                          <textarea rows=\"1\" cols=\"10\" disabled>\"\"\"+ keys[1] +\"\"\"</textarea>\r\n",
        "                          <textarea rows=\"1\" cols=\"10\" disabled>\"\"\"+ keys[2] +\"\"\"</textarea>\r\n",
        "                          <textarea rows=\"1\" cols=\"10\" disabled>\"\"\"+ keys[3] +\"\"\"</textarea>\r\n",
        "                          <textarea rows=\"1\" cols=\"10\" disabled>\"\"\"+ keys[4] +\"\"\"</textarea>\r\n",
        "                          <textarea rows=\"1\" cols=\"10\" disabled>\"\"\"+ keys[5] +\"\"\"</textarea>\r\n",
        "                          <textarea rows=\"1\" cols=\"10\" disabled>\"\"\"+ keys[6] +\"\"\"</textarea>\r\n",
        "                          <textarea rows=\"1\" cols=\"10\" disabled>\"\"\"+ keys[7] +\"\"\"</textarea>\r\n",
        "                          <textarea rows=\"1\" cols=\"10\" disabled>\"\"\"+ keys[8] +\"\"\"</textarea>\r\n",
        "                          <textarea rows=\"1\" cols=\"10\" disabled>\"\"\"+ keys[9] +\"\"\"</textarea>\r\n",
        "                          <h2>The tags proposed</h2>\r\n",
        "                          <textarea rows=\"1\" cols=\"10\" disabled>\"\"\"+ tags[0] +\"\"\"</textarea>\r\n",
        "                          <textarea rows=\"1\" cols=\"10\" disabled>#\"\"\"+ tags[1] +\"\"\"</textarea>\r\n",
        "                          <textarea rows=\"1\" cols=\"10\" disabled>#\"\"\"+ tags[2] +\"\"\"</textarea>\r\n",
        "                     </div>\r\n",
        "                     <br><br><br>\r\n",
        "                     <form action=\"/\" method=\"POST\" align=\"center\">\r\n",
        "                         <input type=\"submit\" name=\"\" value=\"Try again\" class=\"btn btn-info\">\r\n",
        "                     </form>\r\n",
        "                </body>\r\n",
        "            </html>\r\n",
        "        \"\"\"\r\n",
        "if __name__ == \"__main__\":\r\n",
        "    app.run()"
      ],
      "execution_count": null,
      "outputs": [
        {
          "output_type": "stream",
          "text": [
            " * Serving Flask app \"__main__\" (lazy loading)\n",
            " * Environment: production\n",
            "\u001b[31m   WARNING: This is a development server. Do not use it in a production deployment.\u001b[0m\n",
            "\u001b[2m   Use a production WSGI server instead.\u001b[0m\n",
            " * Debug mode: off\n"
          ],
          "name": "stdout"
        },
        {
          "output_type": "stream",
          "text": [
            " * Running on http://127.0.0.1:5000/ (Press CTRL+C to quit)\n"
          ],
          "name": "stderr"
        }
      ]
    }
  ]
}